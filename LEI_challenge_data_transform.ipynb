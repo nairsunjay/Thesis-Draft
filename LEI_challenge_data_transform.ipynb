{
 "cells": [
  {
   "cell_type": "code",
   "execution_count": 1,
   "metadata": {
    "colab": {
     "base_uri": "https://localhost:8080/",
     "height": 106,
     "resources": {
      "http://localhost:8080/nbextensions/google.colab/files.js": {
       "data": "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",
       "headers": [
        [
         "content-type",
         "application/javascript"
        ]
       ],
       "ok": true,
       "status": 200,
       "status_text": ""
      }
     }
    },
    "id": "k7hvR7bJ9rCg",
    "outputId": "45b9b680-195c-4061-8485-1886a5ed12c2"
   },
   "outputs": [],
   "source": [
    "import pandas as pd\n",
    "import numpy as np"
   ]
  },
  {
   "cell_type": "code",
   "execution_count": 4,
   "metadata": {
    "id": "gCLVRBtO9zaK"
   },
   "outputs": [],
   "source": [
    "c_df = pd.read_csv('challenges.csv')\n",
    "lei_df = pd.read_csv('lei-records.csv', encoding= 'latin-1')"
   ]
  },
  {
   "cell_type": "code",
   "execution_count": 5,
   "metadata": {
    "colab": {
     "base_uri": "https://localhost:8080/",
     "height": 269
    },
    "id": "MxudKi_J-PxN",
    "outputId": "e3100a70-029c-4254-bb92-d5ea5bef8a78"
   },
   "outputs": [
    {
     "data": {
      "text/plain": [
       "Index(['id', 'LEI', 'Entity.LegalName', 'Entity.LegalName.xmllang',\n",
       "       'Entity.OtherEntityNames.OtherEntityName.1',\n",
       "       'Entity.LegalAddress.Region', 'Entity.LegalAddress.Country',\n",
       "       'Entity.LegalAddress.PostalCode', 'Entity.HeadquartersAddress.Region',\n",
       "       'Entity.HeadquartersAddress.Country',\n",
       "       'Entity.HeadquartersAddress.PostalCode',\n",
       "       'Entity.RegistrationAuthority.RegistrationAuthorityID',\n",
       "       'Entity.RegistrationAuthority.OtherRegistrationAuthorityID',\n",
       "       'Entity.RegistrationAuthority.RegistrationAuthorityEntityID',\n",
       "       'Entity.LegalJurisdiction', 'Entity.EntityStatus',\n",
       "       'Registration.RegistrationStatus', 'Registration.NextRenewalDate',\n",
       "       'Registration.ValidationSources',\n",
       "       'Registration.ValidationAuthority.ValidationAuthorityID',\n",
       "       'Registration.ValidationAuthority.ValidationAuthorityEntityID'],\n",
       "      dtype='object')"
      ]
     },
     "execution_count": 5,
     "metadata": {},
     "output_type": "execute_result"
    }
   ],
   "source": [
    "c_df.head(10)\n",
    "lei_df.columns"
   ]
  },
  {
   "cell_type": "code",
   "execution_count": 6,
   "metadata": {
    "colab": {
     "base_uri": "https://localhost:8080/",
     "height": 151
    },
    "id": "MqzUrxI7-XRk",
    "outputId": "56542e0b-187a-4cf4-ec8f-afb0d50a3c8e"
   },
   "outputs": [
    {
     "data": {
      "text/plain": [
       "Index(['id', 'LEI', 'Entity.LegalName', 'Entity.LegalAddress.Region',\n",
       "       'Entity.LegalAddress.Country', 'Entity.LegalAddress.PostalCode',\n",
       "       'Entity.HeadquartersAddress.Region',\n",
       "       'Entity.HeadquartersAddress.Country',\n",
       "       'Entity.HeadquartersAddress.PostalCode', 'Entity.LegalJurisdiction',\n",
       "       'Entity.EntityStatus', 'Registration.RegistrationStatus',\n",
       "       'Registration.ValidationSources'],\n",
       "      dtype='object')"
      ]
     },
     "execution_count": 6,
     "metadata": {},
     "output_type": "execute_result"
    }
   ],
   "source": [
    "lei_df = lei_df[['id', 'LEI', 'Entity.LegalName',\n",
    "       'Entity.LegalAddress.Region', 'Entity.LegalAddress.Country',\n",
    "       'Entity.LegalAddress.PostalCode', 'Entity.HeadquartersAddress.Region',\n",
    "       'Entity.HeadquartersAddress.Country',\n",
    "       'Entity.HeadquartersAddress.PostalCode',\n",
    "       'Entity.LegalJurisdiction', 'Entity.EntityStatus',\n",
    "       'Registration.RegistrationStatus',\n",
    "       'Registration.ValidationSources']]\n",
    "lei_df.columns"
   ]
  },
  {
   "cell_type": "code",
   "execution_count": 7,
   "metadata": {
    "colab": {
     "base_uri": "https://localhost:8080/",
     "height": 202
    },
    "id": "qPgw1F7C_pwn",
    "outputId": "36e0bfc2-6166-447c-d1b3-546aaf842fc6"
   },
   "outputs": [
    {
     "data": {
      "text/plain": [
       "Index(['Unnamed: 0', 'id', 'uuid', 'created_at', 'updated_at',\n",
       "       'challengeable_type', 'challengeable_id', 'subject_key', 'subject_type',\n",
       "       'subject_owner', 'subject_source', 'subject_source_date', 'comment',\n",
       "       'LEI', 'Entity.LegalName', 'Entity.LegalAddress.Region',\n",
       "       'Entity.LegalAddress.Country', 'Entity.LegalAddress.PostalCode',\n",
       "       'Entity.HeadquartersAddress.Region',\n",
       "       'Entity.HeadquartersAddress.Country',\n",
       "       'Entity.HeadquartersAddress.PostalCode', 'Entity.LegalJurisdiction',\n",
       "       'Entity.EntityStatus', 'Registration.RegistrationStatus',\n",
       "       'Registration.ValidationSources'],\n",
       "      dtype='object')"
      ]
     },
     "execution_count": 7,
     "metadata": {},
     "output_type": "execute_result"
    }
   ],
   "source": [
    "lei_df = lei_df.rename(columns = {\"id\":\"challengeable_id\"})\n",
    "lei_df['challengeable_id'].dtypes\n",
    "# c_df.challengeable_id\n",
    "\n",
    "challenge_data_df= pd.merge(c_df, lei_df, on='challengeable_id', how='left')\n",
    "challenge_data_df.columns"
   ]
  },
  {
   "cell_type": "code",
   "execution_count": 8,
   "metadata": {
    "id": "2Zy2FPgAAOxB"
   },
   "outputs": [],
   "source": [
    "challenge_df =challenge_data_df.drop(['Unnamed: 0', 'id' ,'challengeable_id', 'LEI'], axis = 1)"
   ]
  },
  {
   "cell_type": "code",
   "execution_count": 13,
   "metadata": {},
   "outputs": [
    {
     "data": {
      "text/html": [
       "<div>\n",
       "<style scoped>\n",
       "    .dataframe tbody tr th:only-of-type {\n",
       "        vertical-align: middle;\n",
       "    }\n",
       "\n",
       "    .dataframe tbody tr th {\n",
       "        vertical-align: top;\n",
       "    }\n",
       "\n",
       "    .dataframe thead th {\n",
       "        text-align: right;\n",
       "    }\n",
       "</style>\n",
       "<table border=\"1\" class=\"dataframe\">\n",
       "  <thead>\n",
       "    <tr style=\"text-align: right;\">\n",
       "      <th></th>\n",
       "      <th>uuid</th>\n",
       "      <th>created_at</th>\n",
       "      <th>updated_at</th>\n",
       "      <th>challengeable_type</th>\n",
       "      <th>subject_key</th>\n",
       "      <th>subject_type</th>\n",
       "      <th>subject_owner</th>\n",
       "      <th>subject_source</th>\n",
       "      <th>subject_source_date</th>\n",
       "      <th>comment</th>\n",
       "      <th>...</th>\n",
       "      <th>Entity.LegalAddress.Region</th>\n",
       "      <th>Entity.LegalAddress.Country</th>\n",
       "      <th>Entity.LegalAddress.PostalCode</th>\n",
       "      <th>Entity.HeadquartersAddress.Region</th>\n",
       "      <th>Entity.HeadquartersAddress.Country</th>\n",
       "      <th>Entity.HeadquartersAddress.PostalCode</th>\n",
       "      <th>Entity.LegalJurisdiction</th>\n",
       "      <th>Entity.EntityStatus</th>\n",
       "      <th>Registration.RegistrationStatus</th>\n",
       "      <th>Registration.ValidationSources</th>\n",
       "    </tr>\n",
       "  </thead>\n",
       "  <tbody>\n",
       "    <tr>\n",
       "      <th>0</th>\n",
       "      <td>65bc9661-0df3-4d96-940f-e848b4c18239</td>\n",
       "      <td>2/12/2019 15:49</td>\n",
       "      <td>4/12/2019 18:00</td>\n",
       "      <td>App\\ChallengeDetail</td>\n",
       "      <td>549300KVKZBBFJVCYR31</td>\n",
       "      <td>Level1</td>\n",
       "      <td>EVK05KS7XY1DEII3R011</td>\n",
       "      <td>LEI_SEARCH</td>\n",
       "      <td>2/12/2019 14:49</td>\n",
       "      <td>Please remove the additional address line as i...</td>\n",
       "      <td>...</td>\n",
       "      <td>US-MA</td>\n",
       "      <td>US</td>\n",
       "      <td>2110</td>\n",
       "      <td>US-IL</td>\n",
       "      <td>US</td>\n",
       "      <td>60187</td>\n",
       "      <td>US-MA</td>\n",
       "      <td>ACTIVE</td>\n",
       "      <td>ISSUED</td>\n",
       "      <td>FULLY_CORROBORATED</td>\n",
       "    </tr>\n",
       "    <tr>\n",
       "      <th>1</th>\n",
       "      <td>8c456017-611e-43c6-93cf-fdfd8bdcc81d</td>\n",
       "      <td>2/12/2019 15:56</td>\n",
       "      <td>19-12-2019 10:00</td>\n",
       "      <td>App\\ChallengeDetail</td>\n",
       "      <td>31570000000000000000</td>\n",
       "      <td>Level1</td>\n",
       "      <td>315700LK78Z7C0WMIL03</td>\n",
       "      <td>LEI_SEARCH</td>\n",
       "      <td>2/12/2019 14:56</td>\n",
       "      <td>This challenge is raised as part of the accura...</td>\n",
       "      <td>...</td>\n",
       "      <td>SE-AB</td>\n",
       "      <td>SE</td>\n",
       "      <td>113 27</td>\n",
       "      <td>SE-AB</td>\n",
       "      <td>SE</td>\n",
       "      <td>113 27</td>\n",
       "      <td>SE</td>\n",
       "      <td>ACTIVE</td>\n",
       "      <td>ISSUED</td>\n",
       "      <td>FULLY_CORROBORATED</td>\n",
       "    </tr>\n",
       "  </tbody>\n",
       "</table>\n",
       "<p>2 rows × 21 columns</p>\n",
       "</div>"
      ],
      "text/plain": [
       "                                   uuid       created_at        updated_at  \\\n",
       "0  65bc9661-0df3-4d96-940f-e848b4c18239  2/12/2019 15:49   4/12/2019 18:00   \n",
       "1  8c456017-611e-43c6-93cf-fdfd8bdcc81d  2/12/2019 15:56  19-12-2019 10:00   \n",
       "\n",
       "    challengeable_type           subject_key subject_type  \\\n",
       "0  App\\ChallengeDetail  549300KVKZBBFJVCYR31       Level1   \n",
       "1  App\\ChallengeDetail  31570000000000000000       Level1   \n",
       "\n",
       "          subject_owner subject_source subject_source_date  \\\n",
       "0  EVK05KS7XY1DEII3R011     LEI_SEARCH     2/12/2019 14:49   \n",
       "1  315700LK78Z7C0WMIL03     LEI_SEARCH     2/12/2019 14:56   \n",
       "\n",
       "                                             comment  ...  \\\n",
       "0  Please remove the additional address line as i...  ...   \n",
       "1  This challenge is raised as part of the accura...  ...   \n",
       "\n",
       "  Entity.LegalAddress.Region Entity.LegalAddress.Country  \\\n",
       "0                      US-MA                          US   \n",
       "1                      SE-AB                          SE   \n",
       "\n",
       "  Entity.LegalAddress.PostalCode Entity.HeadquartersAddress.Region  \\\n",
       "0                           2110                             US-IL   \n",
       "1                         113 27                             SE-AB   \n",
       "\n",
       "  Entity.HeadquartersAddress.Country Entity.HeadquartersAddress.PostalCode  \\\n",
       "0                                 US                                 60187   \n",
       "1                                 SE                                113 27   \n",
       "\n",
       "  Entity.LegalJurisdiction Entity.EntityStatus  \\\n",
       "0                    US-MA              ACTIVE   \n",
       "1                       SE              ACTIVE   \n",
       "\n",
       "  Registration.RegistrationStatus Registration.ValidationSources  \n",
       "0                          ISSUED             FULLY_CORROBORATED  \n",
       "1                          ISSUED             FULLY_CORROBORATED  \n",
       "\n",
       "[2 rows x 21 columns]"
      ]
     },
     "execution_count": 13,
     "metadata": {},
     "output_type": "execute_result"
    }
   ],
   "source": [
    "challenge_df.head(2)"
   ]
  },
  {
   "cell_type": "code",
   "execution_count": 11,
   "metadata": {
    "colab": {
     "base_uri": "https://localhost:8080/",
     "height": 34
    },
    "id": "_sgExtwHCSAR",
    "outputId": "cb5bcb84-99de-41af-ed7c-550eab8b5456"
   },
   "outputs": [
    {
     "name": "stdout",
     "output_type": "stream",
     "text": [
      "\n",
      "CSV String:\n",
      " None\n"
     ]
    }
   ],
   "source": [
    "# saving the DataFrame as a CSV file \n",
    "challenges_csv = challenge_df.to_csv('challenge_data.csv', index = True) \n",
    "print('\\nCSV String:\\n', challenges_csv)"
   ]
  },
  {
   "cell_type": "code",
   "execution_count": null,
   "metadata": {
    "id": "8uPKHpoICdHB"
   },
   "outputs": [],
   "source": []
  }
 ],
 "metadata": {
  "colab": {
   "name": "LEI_challenge_data_transform.ipynb",
   "provenance": []
  },
  "kernelspec": {
   "display_name": "Python 3",
   "language": "python",
   "name": "python3"
  },
  "language_info": {
   "codemirror_mode": {
    "name": "ipython",
    "version": 3
   },
   "file_extension": ".py",
   "mimetype": "text/x-python",
   "name": "python",
   "nbconvert_exporter": "python",
   "pygments_lexer": "ipython3",
   "version": "3.8.3"
  }
 },
 "nbformat": 4,
 "nbformat_minor": 1
}
